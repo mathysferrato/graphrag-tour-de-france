{
 "cells": [
  {
   "cell_type": "markdown",
   "metadata": {},
   "source": [
    "# Settings"
   ]
  },
  {
   "cell_type": "code",
   "execution_count": 1,
   "metadata": {},
   "outputs": [],
   "source": [
    "import nest_asyncio\n",
    "nest_asyncio.apply()"
   ]
  },
  {
   "cell_type": "code",
   "execution_count": 2,
   "metadata": {},
   "outputs": [],
   "source": [
    "from dotenv import load_dotenv\n",
    "import os\n",
    "\n",
    "load_dotenv()\n",
    "MISTRAL_API_KEY = os.environ[\"MISTRAL_API_KEY\"]"
   ]
  },
  {
   "cell_type": "code",
   "execution_count": null,
   "metadata": {},
   "outputs": [],
   "source": [
    "from llama_index.llms.mistralai import MistralAI\n",
    "from llama_index.embeddings.mistralai import MistralAIEmbedding\n",
    "from llama_index.core import Settings\n",
    "\n",
    "llm = MistralAI(temperature=0.0, model='mistral-small-latest')\n",
    "Settings.llm = llm\n",
    "\n",
    "embed_model = MistralAIEmbedding(model_name=\"mistral-embed\")\n",
    "\n",
    "Settings.embed_model = embed_model"
   ]
  },
  {
   "cell_type": "code",
   "execution_count": 4,
   "metadata": {},
   "outputs": [],
   "source": [
    "from llama_index.graph_stores.neo4j import Neo4jPropertyGraphStore\n",
    "\n",
    "URI = os.environ[\"NEO4J_URI\"]\n",
    "USERNAME = os.environ[\"NEO4J_USERNAME\"]\n",
    "PASSWORD = os.environ[\"NEO4J_PASSWORD\"]\n",
    "\n",
    "graph_store = Neo4jPropertyGraphStore(\n",
    "    username=USERNAME,\n",
    "    password=PASSWORD,\n",
    "    url=URI,\n",
    ")"
   ]
  },
  {
   "cell_type": "markdown",
   "metadata": {},
   "source": [
    "# Building the graph"
   ]
  },
  {
   "cell_type": "code",
   "execution_count": 5,
   "metadata": {},
   "outputs": [],
   "source": [
    "from llama_index.core import SimpleDirectoryReader\n",
    "documents = SimpleDirectoryReader('data/md/').load_data()"
   ]
  },
  {
   "cell_type": "code",
   "execution_count": null,
   "metadata": {},
   "outputs": [],
   "source": [
    "from llama_index.core import PropertyGraphIndex\n",
    "from llama_index.core.indices.property_graph import DynamicLLMPathExtractor, SimpleLLMPathExtractor\n",
    "\n",
    "### Extract graph from documents\n",
    "index = PropertyGraphIndex.from_documents(\n",
    "    documents,\n",
    "    embed_model=embed_model,\n",
    "    kg_extractors=[\n",
    "        ### Different LLM path extractors can be used to extract the graph from documents depending on the use case\n",
    "        # DynamicLLMPathExtractor(\n",
    "        #     llm=llm,\n",
    "        # )\n",
    "        SimpleLLMPathExtractor(\n",
    "            llm=llm,\n",
    "        )\n",
    "    ],\n",
    "    property_graph_store=graph_store,\n",
    "    show_progress=True,\n",
    ")\n",
    "\n",
    "\n",
    "### Create an index from the existing knowledge graph\n",
    "# index = PropertyGraphIndex.from_existing(\n",
    "#     property_graph_store=graph_store,\n",
    "#     embed_model=embed_model,\n",
    "# )"
   ]
  },
  {
   "cell_type": "markdown",
   "metadata": {},
   "source": [
    "# Querying the graph"
   ]
  },
  {
   "cell_type": "code",
   "execution_count": null,
   "metadata": {},
   "outputs": [],
   "source": [
    "def answer_user_query(query, index):\n",
    "    \"\"\"\n",
    "    Answer a user query using the index and LLM. Translate the answer to French.\n",
    "    \"\"\"\n",
    "    query_engine = index.as_query_engine(include_text=True)\n",
    "    response = query_engine.query(query)\n",
    "    response = query_engine.query(\"Translate in french: \" + str(response))\n",
    "    print(response)"
   ]
  },
  {
   "cell_type": "code",
   "execution_count": 9,
   "metadata": {},
   "outputs": [],
   "source": [
    "query = \"est-ce que le tour de france 2025 passe à toulouse ?\""
   ]
  },
  {
   "cell_type": "code",
   "execution_count": 11,
   "metadata": {},
   "outputs": [
    {
     "name": "stdout",
     "output_type": "stream",
     "text": [
      "Oui, le Tour de France 2025 passe à Toulouse. Il y a une étape qui commence et se termine à Toulouse le 16 juillet.\n"
     ]
    }
   ],
   "source": [
    "answer_user_query(query, index)"
   ]
  }
 ],
 "metadata": {
  "kernelspec": {
   "display_name": "base",
   "language": "python",
   "name": "python3"
  },
  "language_info": {
   "codemirror_mode": {
    "name": "ipython",
    "version": 3
   },
   "file_extension": ".py",
   "mimetype": "text/x-python",
   "name": "python",
   "nbconvert_exporter": "python",
   "pygments_lexer": "ipython3",
   "version": "3.12.9"
  }
 },
 "nbformat": 4,
 "nbformat_minor": 2
}
