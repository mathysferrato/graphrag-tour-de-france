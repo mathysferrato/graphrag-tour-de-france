{
 "cells": [
  {
   "cell_type": "markdown",
   "id": "30a918e2",
   "metadata": {},
   "source": [
    "# Settings"
   ]
  },
  {
   "cell_type": "code",
   "execution_count": 8,
   "id": "531b5632",
   "metadata": {},
   "outputs": [],
   "source": [
    "import os\n",
    "from dotenv import load_dotenv\n",
    "\n",
    "load_dotenv()\n",
    "MISTRAL_API_KEY = os.getenv(\"MISTRAL_API_KEY\")"
   ]
  },
  {
   "cell_type": "markdown",
   "id": "6d3d600b",
   "metadata": {},
   "source": [
    "# Image conversion to markdown"
   ]
  },
  {
   "cell_type": "code",
   "execution_count": null,
   "id": "8d116a4a",
   "metadata": {},
   "outputs": [],
   "source": [
    "import base64\n",
    "from PIL import Image\n",
    "from io import BytesIO\n",
    "\n",
    "def load_image_as_base64(image_path):\n",
    "    \"\"\"\n",
    "    Converts an image file to a Base64 encoded string.\n",
    "    \"\"\"\n",
    "    \n",
    "    with Image.open(image_path) as img:\n",
    "        # Convert the image to bytes\n",
    "        buffered = BytesIO()\n",
    "        img.save(buffered, format=\"JPEG\")\n",
    "        img_bytes = buffered.getvalue()\n",
    "        \n",
    "        # Encode the bytes to Base64\n",
    "        img_base64 = base64.b64encode(img_bytes).decode(\"utf-8\")\n",
    "        return img_base64"
   ]
  },
  {
   "cell_type": "code",
   "execution_count": null,
   "id": "7c5cad03",
   "metadata": {},
   "outputs": [],
   "source": [
    "from mistralai import Mistral\n",
    "import re\n",
    "\n",
    "def img_to_markdown(image_filepath, prompt, model):\n",
    "    \"\"\"\n",
    "    Converts an image to a markdown file using Mistral API.\n",
    "\n",
    "    Inputs:\n",
    "        image_filepath (str): Path to the image file.\n",
    "        prompt (str): Prompt to be used for the Mistral API.\n",
    "        model (str): Model name to be used for the Mistral API.\n",
    "    \n",
    "    Outputs:\n",
    "        The generated markdown content.\n",
    "    \"\"\"\n",
    "\n",
    "    markdown_output = []\n",
    "\n",
    "    img_base64 = load_image_as_base64(image_filepath)\n",
    "\n",
    "    last_page_markdown = markdown_output[-1] if markdown_output else \"\"\n",
    "\n",
    "    final_prompt = f\"{prompt}\\n\\nLast processed page:\\n{last_page_markdown}\\n\\nThis page:\\n\" if markdown_output else prompt\n",
    "\n",
    "    messages = [\n",
    "            {\n",
    "            \"role\": \"user\",\n",
    "            \"content\": [\n",
    "                {\n",
    "                \"type\": \"text\",\n",
    "                \"text\": final_prompt,\n",
    "                },\n",
    "                {\n",
    "                \"type\": \"image_url\",\n",
    "                \"image_url\": {\n",
    "                    \"url\": f\"data:image/png;base64,{img_base64}\"\n",
    "                }\n",
    "                }\n",
    "            ]\n",
    "            }\n",
    "        ]\n",
    "\n",
    "    client = Mistral(api_key=MISTRAL_API_KEY)\n",
    "    response = client.chat.complete(model=model, messages=messages, temperature=0.0)\n",
    "    markdown_output.append(response.choices[0].message.content)\n",
    "\n",
    "    markdown_saved_filepath = image_filepath.replace('jpg', 'md')\n",
    "\n",
    "    with open(markdown_saved_filepath, 'w', encoding='utf-8') as f:\n",
    "        # Parse the markdown content to remove ```markdown and ```\n",
    "        cleaned_output = []\n",
    "        for content in markdown_output:\n",
    "            match = re.search(r\"```markdown(.*?)```\", content, re.DOTALL)\n",
    "            if match:\n",
    "                cleaned_output.append(match.group(1).strip())\n",
    "            else:\n",
    "                cleaned_output.append(content.strip())\n",
    "        f.write('\\n\\n'.join(cleaned_output))\n",
    "\n",
    "    print(f\"Markdown saved to {markdown_saved_filepath}\")\n",
    "\n"
   ]
  },
  {
   "cell_type": "code",
   "execution_count": 11,
   "id": "9da7d801",
   "metadata": {},
   "outputs": [],
   "source": [
    "prompt = \"\"\"\n",
    "You are an advanced language model. Your task is to read an image. \n",
    "The goal is to transform the content of this image into a description into Markdown format to later be able to build a graph from it. \n",
    "\"\"\""
   ]
  },
  {
   "cell_type": "code",
   "execution_count": 12,
   "id": "8463a906",
   "metadata": {},
   "outputs": [],
   "source": [
    "model = 'mistral-small-latest'"
   ]
  },
  {
   "cell_type": "code",
   "execution_count": 13,
   "id": "748f82fc",
   "metadata": {},
   "outputs": [],
   "source": [
    "image_filepath = 'data/jpg/tdf.jpg'"
   ]
  },
  {
   "cell_type": "code",
   "execution_count": 14,
   "id": "9098aeba",
   "metadata": {},
   "outputs": [
    {
     "name": "stdout",
     "output_type": "stream",
     "text": [
      "Markdown saved to data/md/tdf.md\n"
     ]
    }
   ],
   "source": [
    "img_to_markdown(image_filepath, prompt, model)"
   ]
  }
 ],
 "metadata": {
  "kernelspec": {
   "display_name": "ah_neo4j",
   "language": "python",
   "name": "python3"
  },
  "language_info": {
   "codemirror_mode": {
    "name": "ipython",
    "version": 3
   },
   "file_extension": ".py",
   "mimetype": "text/x-python",
   "name": "python",
   "nbconvert_exporter": "python",
   "pygments_lexer": "ipython3",
   "version": "3.13.2"
  }
 },
 "nbformat": 4,
 "nbformat_minor": 5
}
